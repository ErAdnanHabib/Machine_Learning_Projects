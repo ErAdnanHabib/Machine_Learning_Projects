{
 "cells": [
  {
   "cell_type": "code",
   "execution_count": 1,
   "id": "919475c0-b245-44ee-bb46-63fde5a0202a",
   "metadata": {},
   "outputs": [
    {
     "name": "stdout",
     "output_type": "stream",
     "text": [
      "Model Accuracy: 96.3254593175853 %\n"
     ]
    }
   ],
   "source": [
    "import warnings\n",
    "warnings.filterwarnings(\"ignore\")\n",
    "import pandas as pd\n",
    "import numpy as np\n",
    "import matplotlib.pyplot as plt\n",
    "from sklearn.model_selection import train_test_split\n",
    "from sklearn.preprocessing import StandardScaler\n",
    "from sklearn.svm import SVC\n",
    "from sklearn.metrics import accuracy_score\n",
    "\n",
    "# Load the dataset\n",
    "data_set = pd.read_csv('dataset_phishing.csv')\n",
    "\n",
    "data_set=data_set.drop(\"url\" , axis=1)\n",
    "\n",
    "\n",
    "# Replace 'legitimate' and 'phishing' with 0 and 1\n",
    "data_set.status = data_set.status.replace({\"legitimate\": 0, \"phishing\": 1})\n",
    "\n",
    "# Split the data into features (x) and labels (y)\n",
    "x = data_set.iloc[:, :-1]\n",
    "y = data_set.iloc[:, -1:]\n",
    "\n",
    "# Split the dataset into training and testing sets\n",
    "x_train, x_test, y_train, y_test = train_test_split(x, y, test_size=0.2, random_state=0)\n",
    "\n",
    "# Scale the training and testing data\n",
    "scaler = StandardScaler()\n",
    "x_train = scaler.fit_transform(x_train)\n",
    "x_test = scaler.transform(x_test)\n",
    "\n",
    "# Create and train the SVM classifier\n",
    "classifier = SVC()\n",
    "classifier.fit(x_train, y_train)\n",
    "\n",
    "# Make predictions on the test data\n",
    "y_pred = classifier.predict(x_test)\n",
    "\n",
    "# Calculate and print the accuracy score on the test set\n",
    "accuracy = accuracy_score(y_test, y_pred)\n",
    "print(\"Model Accuracy:\", accuracy * 100, \"%\")\n",
    "\n",
    "\n",
    "#pickle the model\n",
    "# Pickling allows you to save the model's state, including its architecture, parameters, and other necessary information, \n",
    "# so that you can later reload and use the model without having to retrain it from scratch\n",
    "import pickle as pkl\n",
    "pickle_out = open(\"classifier.pkl\" , \"wb\")\n",
    "pkl.dump(classifier,pickle_out)\n",
    "pickle_out.close()\n"
   ]
  },
  {
   "cell_type": "code",
   "execution_count": 2,
   "id": "cb103b65-d04c-43f5-aca4-2c25ad2504c6",
   "metadata": {},
   "outputs": [],
   "source": []
  },
  {
   "cell_type": "code",
   "execution_count": 8,
   "id": "0e7c77c1-0711-4b2c-8db9-0cebd7037727",
   "metadata": {},
   "outputs": [],
   "source": []
  },
  {
   "cell_type": "code",
   "execution_count": null,
   "id": "8d1ff8bc-c808-440d-a046-7090bfbaf41f",
   "metadata": {},
   "outputs": [],
   "source": []
  }
 ],
 "metadata": {
  "kernelspec": {
   "display_name": "Python 3 (ipykernel)",
   "language": "python",
   "name": "python3"
  },
  "language_info": {
   "codemirror_mode": {
    "name": "ipython",
    "version": 3
   },
   "file_extension": ".py",
   "mimetype": "text/x-python",
   "name": "python",
   "nbconvert_exporter": "python",
   "pygments_lexer": "ipython3",
   "version": "3.10.11"
  }
 },
 "nbformat": 4,
 "nbformat_minor": 5
}
